{
 "cells": [
  {
   "cell_type": "markdown",
   "metadata": {},
   "source": [
    "## ML Cluster Analysis Assignment"
   ]
  },
  {
   "cell_type": "markdown",
   "metadata": {},
   "source": [
    "### Identifying high yeilding customers in e-commerce Dataset"
   ]
  },
  {
   "cell_type": "markdown",
   "metadata": {},
   "source": [
    "#### Introduction\n",
    "\n",
    "The aim of this analysis is to identify the customers into three groups :\n",
    "* 1. High Value Customer\n",
    "* 2. Middle Value Customer\n",
    "* 3. Low Value Customer\n",
    "\n",
    "Customer Segmentation is a very broad subject matter, we would like to focus on e-commerce and particularly on understanding customers using the website for purchasing goods. "
   ]
  },
  {
   "cell_type": "markdown",
   "metadata": {},
   "source": [
    "Why is it important to understand the customer base?\n",
    "\n",
    "E-commerce is being used in every walk of life. So, it is important for a business to understand their customer behavior. This use case focuses on identifying the segments which are highly yeilding and that have a potential to yeild profits."
   ]
  },
  {
   "cell_type": "markdown",
   "metadata": {},
   "source": [
    "What is in this kernel?\n",
    "\n",
    "* Data Cleaning\n",
    "* Understanding the variables\n",
    "    * Univariate Analysis\n",
    "    * Understanding KPIs\n",
    "* Clustering \n",
    "    * Agglomerative\n",
    "    * K-means"
   ]
  },
  {
   "cell_type": "code",
   "execution_count": 1,
   "metadata": {},
   "outputs": [],
   "source": [
    "# Importing Libraries\n",
    "\n",
    "import os\n",
    "import numpy as np\n",
    "import pandas as pd\n",
    "import matplotlib.pyplot as plt\n",
    "import seaborn as sns"
   ]
  },
  {
   "cell_type": "markdown",
   "metadata": {},
   "source": [
    "### Reading Data"
   ]
  },
  {
   "cell_type": "code",
   "execution_count": 2,
   "metadata": {},
   "outputs": [],
   "source": [
    "os.chdir(\"C:\\\\Users\\\\Soumya\\\\Desktop\\\\Python\")\n",
    "sales = pd.read_csv(\"sales_data_sample.csv\", encoding = \"ISO-8859-1\")"
   ]
  },
  {
   "cell_type": "code",
   "execution_count": 3,
   "metadata": {},
   "outputs": [
    {
     "data": {
      "text/html": [
       "<div>\n",
       "<style scoped>\n",
       "    .dataframe tbody tr th:only-of-type {\n",
       "        vertical-align: middle;\n",
       "    }\n",
       "\n",
       "    .dataframe tbody tr th {\n",
       "        vertical-align: top;\n",
       "    }\n",
       "\n",
       "    .dataframe thead th {\n",
       "        text-align: right;\n",
       "    }\n",
       "</style>\n",
       "<table border=\"1\" class=\"dataframe\">\n",
       "  <thead>\n",
       "    <tr style=\"text-align: right;\">\n",
       "      <th></th>\n",
       "      <th>ORDERNUMBER</th>\n",
       "      <th>QUANTITYORDERED</th>\n",
       "      <th>PRICEEACH</th>\n",
       "      <th>ORDERLINENUMBER</th>\n",
       "      <th>SALES</th>\n",
       "      <th>ORDERDATE</th>\n",
       "      <th>STATUS</th>\n",
       "      <th>QTR_ID</th>\n",
       "      <th>MONTH_ID</th>\n",
       "      <th>YEAR_ID</th>\n",
       "      <th>...</th>\n",
       "      <th>ADDRESSLINE1</th>\n",
       "      <th>ADDRESSLINE2</th>\n",
       "      <th>CITY</th>\n",
       "      <th>STATE</th>\n",
       "      <th>POSTALCODE</th>\n",
       "      <th>COUNTRY</th>\n",
       "      <th>TERRITORY</th>\n",
       "      <th>CONTACTLASTNAME</th>\n",
       "      <th>CONTACTFIRSTNAME</th>\n",
       "      <th>DEALSIZE</th>\n",
       "    </tr>\n",
       "  </thead>\n",
       "  <tbody>\n",
       "    <tr>\n",
       "      <th>2574</th>\n",
       "      <td>10275</td>\n",
       "      <td>39</td>\n",
       "      <td>100.0</td>\n",
       "      <td>16</td>\n",
       "      <td>4472.52</td>\n",
       "      <td>7/23/2004 0:00</td>\n",
       "      <td>Shipped</td>\n",
       "      <td>3</td>\n",
       "      <td>7</td>\n",
       "      <td>2004</td>\n",
       "      <td>...</td>\n",
       "      <td>67, rue des Cinquante Otages</td>\n",
       "      <td>NaN</td>\n",
       "      <td>Nantes</td>\n",
       "      <td>NaN</td>\n",
       "      <td>44000</td>\n",
       "      <td>France</td>\n",
       "      <td>EMEA</td>\n",
       "      <td>Labrune</td>\n",
       "      <td>Janine</td>\n",
       "      <td>Medium</td>\n",
       "    </tr>\n",
       "    <tr>\n",
       "      <th>1265</th>\n",
       "      <td>10394</td>\n",
       "      <td>37</td>\n",
       "      <td>100.0</td>\n",
       "      <td>1</td>\n",
       "      <td>6376.58</td>\n",
       "      <td>3/15/2005 0:00</td>\n",
       "      <td>Shipped</td>\n",
       "      <td>1</td>\n",
       "      <td>3</td>\n",
       "      <td>2005</td>\n",
       "      <td>...</td>\n",
       "      <td>C/ Moralzarzal, 86</td>\n",
       "      <td>NaN</td>\n",
       "      <td>Madrid</td>\n",
       "      <td>NaN</td>\n",
       "      <td>28034</td>\n",
       "      <td>Spain</td>\n",
       "      <td>EMEA</td>\n",
       "      <td>Freyre</td>\n",
       "      <td>Diego</td>\n",
       "      <td>Medium</td>\n",
       "    </tr>\n",
       "    <tr>\n",
       "      <th>2739</th>\n",
       "      <td>10373</td>\n",
       "      <td>37</td>\n",
       "      <td>100.0</td>\n",
       "      <td>8</td>\n",
       "      <td>4025.60</td>\n",
       "      <td>1/31/2005 0:00</td>\n",
       "      <td>Shipped</td>\n",
       "      <td>1</td>\n",
       "      <td>1</td>\n",
       "      <td>2005</td>\n",
       "      <td>...</td>\n",
       "      <td>Torikatu 38</td>\n",
       "      <td>NaN</td>\n",
       "      <td>Oulu</td>\n",
       "      <td>NaN</td>\n",
       "      <td>90110</td>\n",
       "      <td>Finland</td>\n",
       "      <td>EMEA</td>\n",
       "      <td>Koskitalo</td>\n",
       "      <td>Pirkko</td>\n",
       "      <td>Medium</td>\n",
       "    </tr>\n",
       "  </tbody>\n",
       "</table>\n",
       "<p>3 rows × 25 columns</p>\n",
       "</div>"
      ],
      "text/plain": [
       "      ORDERNUMBER  QUANTITYORDERED  PRICEEACH  ORDERLINENUMBER    SALES  \\\n",
       "2574        10275               39      100.0               16  4472.52   \n",
       "1265        10394               37      100.0                1  6376.58   \n",
       "2739        10373               37      100.0                8  4025.60   \n",
       "\n",
       "           ORDERDATE   STATUS  QTR_ID  MONTH_ID  YEAR_ID  ...  \\\n",
       "2574  7/23/2004 0:00  Shipped       3         7     2004  ...   \n",
       "1265  3/15/2005 0:00  Shipped       1         3     2005  ...   \n",
       "2739  1/31/2005 0:00  Shipped       1         1     2005  ...   \n",
       "\n",
       "                      ADDRESSLINE1  ADDRESSLINE2    CITY STATE POSTALCODE  \\\n",
       "2574  67, rue des Cinquante Otages           NaN  Nantes   NaN      44000   \n",
       "1265            C/ Moralzarzal, 86           NaN  Madrid   NaN      28034   \n",
       "2739                   Torikatu 38           NaN    Oulu   NaN      90110   \n",
       "\n",
       "      COUNTRY TERRITORY CONTACTLASTNAME CONTACTFIRSTNAME DEALSIZE  \n",
       "2574   France      EMEA         Labrune           Janine   Medium  \n",
       "1265    Spain      EMEA          Freyre            Diego   Medium  \n",
       "2739  Finland      EMEA       Koskitalo           Pirkko   Medium  \n",
       "\n",
       "[3 rows x 25 columns]"
      ]
     },
     "execution_count": 3,
     "metadata": {},
     "output_type": "execute_result"
    }
   ],
   "source": [
    "sales.sample(3)"
   ]
  },
  {
   "cell_type": "markdown",
   "metadata": {},
   "source": [
    "###  Data cleaning"
   ]
  },
  {
   "cell_type": "code",
   "execution_count": 4,
   "metadata": {},
   "outputs": [
    {
     "data": {
      "text/plain": [
       "(2823, 25)"
      ]
     },
     "execution_count": 4,
     "metadata": {},
     "output_type": "execute_result"
    }
   ],
   "source": [
    "sales.shape  # Shape of the dataframe"
   ]
  },
  {
   "cell_type": "code",
   "execution_count": 5,
   "metadata": {},
   "outputs": [],
   "source": [
    "#Removing unnecessary columns which do not have any significance - Phone, Address line 1, Address Line 2,Territory,State, PostalCode\n",
    "cols_drop = ['PHONE','ADDRESSLINE1','ADDRESSLINE2','TERRITORY','STATE','POSTALCODE']\n",
    "sales = sales.drop(cols_drop, axis=1)"
   ]
  },
  {
   "cell_type": "code",
   "execution_count": 6,
   "metadata": {},
   "outputs": [
    {
     "data": {
      "text/plain": [
       "(2823, 19)"
      ]
     },
     "execution_count": 6,
     "metadata": {},
     "output_type": "execute_result"
    }
   ],
   "source": [
    "# data glimpse\n",
    "sales.sample(3)\n",
    "sales.shape"
   ]
  },
  {
   "cell_type": "code",
   "execution_count": 7,
   "metadata": {},
   "outputs": [
    {
     "data": {
      "text/plain": [
       "ORDERNUMBER         0\n",
       "QUANTITYORDERED     0\n",
       "PRICEEACH           0\n",
       "ORDERLINENUMBER     0\n",
       "SALES               0\n",
       "ORDERDATE           0\n",
       "STATUS              0\n",
       "QTR_ID              0\n",
       "MONTH_ID            0\n",
       "YEAR_ID             0\n",
       "PRODUCTLINE         0\n",
       "MSRP                0\n",
       "PRODUCTCODE         0\n",
       "CUSTOMERNAME        0\n",
       "CITY                0\n",
       "COUNTRY             0\n",
       "CONTACTLASTNAME     0\n",
       "CONTACTFIRSTNAME    0\n",
       "DEALSIZE            0\n",
       "dtype: int64"
      ]
     },
     "execution_count": 7,
     "metadata": {},
     "output_type": "execute_result"
    }
   ],
   "source": [
    "# Checking for missing values\n",
    "sales.isnull().sum()"
   ]
  },
  {
   "cell_type": "code",
   "execution_count": 8,
   "metadata": {},
   "outputs": [
    {
     "data": {
      "text/plain": [
       "ORDERNUMBER           int64\n",
       "QUANTITYORDERED       int64\n",
       "PRICEEACH           float64\n",
       "ORDERLINENUMBER       int64\n",
       "SALES               float64\n",
       "ORDERDATE            object\n",
       "STATUS               object\n",
       "QTR_ID                int64\n",
       "MONTH_ID              int64\n",
       "YEAR_ID               int64\n",
       "PRODUCTLINE          object\n",
       "MSRP                  int64\n",
       "PRODUCTCODE          object\n",
       "CUSTOMERNAME         object\n",
       "CITY                 object\n",
       "COUNTRY              object\n",
       "CONTACTLASTNAME      object\n",
       "CONTACTFIRSTNAME     object\n",
       "DEALSIZE             object\n",
       "dtype: object"
      ]
     },
     "execution_count": 8,
     "metadata": {},
     "output_type": "execute_result"
    }
   ],
   "source": [
    "# Checking datatypes\n",
    "\n",
    "sales.dtypes"
   ]
  },
  {
   "cell_type": "code",
   "execution_count": 9,
   "metadata": {},
   "outputs": [],
   "source": [
    "# Changing OrderDate datatype from object to datetime\n",
    "\n",
    "sales['ORDERDATE'] = pd.to_datetime(sales['ORDERDATE'])   "
   ]
  },
  {
   "cell_type": "markdown",
   "metadata": {},
   "source": [
    "No inconsistent datatypes and missing values, so good to go"
   ]
  },
  {
   "cell_type": "code",
   "execution_count": 10,
   "metadata": {},
   "outputs": [
    {
     "data": {
      "text/html": [
       "<div>\n",
       "<style scoped>\n",
       "    .dataframe tbody tr th:only-of-type {\n",
       "        vertical-align: middle;\n",
       "    }\n",
       "\n",
       "    .dataframe tbody tr th {\n",
       "        vertical-align: top;\n",
       "    }\n",
       "\n",
       "    .dataframe thead th {\n",
       "        text-align: right;\n",
       "    }\n",
       "</style>\n",
       "<table border=\"1\" class=\"dataframe\">\n",
       "  <thead>\n",
       "    <tr style=\"text-align: right;\">\n",
       "      <th></th>\n",
       "      <th>QUANTITYORDERED</th>\n",
       "      <th>PRICEEACH</th>\n",
       "      <th>SALES</th>\n",
       "      <th>MSRP</th>\n",
       "    </tr>\n",
       "  </thead>\n",
       "  <tbody>\n",
       "    <tr>\n",
       "      <th>count</th>\n",
       "      <td>2823.000000</td>\n",
       "      <td>2823.000000</td>\n",
       "      <td>2823.000000</td>\n",
       "      <td>2823.000000</td>\n",
       "    </tr>\n",
       "    <tr>\n",
       "      <th>mean</th>\n",
       "      <td>35.092809</td>\n",
       "      <td>83.658544</td>\n",
       "      <td>3553.889072</td>\n",
       "      <td>100.715551</td>\n",
       "    </tr>\n",
       "    <tr>\n",
       "      <th>std</th>\n",
       "      <td>9.741443</td>\n",
       "      <td>20.174277</td>\n",
       "      <td>1841.865106</td>\n",
       "      <td>40.187912</td>\n",
       "    </tr>\n",
       "    <tr>\n",
       "      <th>min</th>\n",
       "      <td>6.000000</td>\n",
       "      <td>26.880000</td>\n",
       "      <td>482.130000</td>\n",
       "      <td>33.000000</td>\n",
       "    </tr>\n",
       "    <tr>\n",
       "      <th>25%</th>\n",
       "      <td>27.000000</td>\n",
       "      <td>68.860000</td>\n",
       "      <td>2203.430000</td>\n",
       "      <td>68.000000</td>\n",
       "    </tr>\n",
       "    <tr>\n",
       "      <th>50%</th>\n",
       "      <td>35.000000</td>\n",
       "      <td>95.700000</td>\n",
       "      <td>3184.800000</td>\n",
       "      <td>99.000000</td>\n",
       "    </tr>\n",
       "    <tr>\n",
       "      <th>75%</th>\n",
       "      <td>43.000000</td>\n",
       "      <td>100.000000</td>\n",
       "      <td>4508.000000</td>\n",
       "      <td>124.000000</td>\n",
       "    </tr>\n",
       "    <tr>\n",
       "      <th>max</th>\n",
       "      <td>97.000000</td>\n",
       "      <td>100.000000</td>\n",
       "      <td>14082.800000</td>\n",
       "      <td>214.000000</td>\n",
       "    </tr>\n",
       "  </tbody>\n",
       "</table>\n",
       "</div>"
      ],
      "text/plain": [
       "       QUANTITYORDERED    PRICEEACH         SALES         MSRP\n",
       "count      2823.000000  2823.000000   2823.000000  2823.000000\n",
       "mean         35.092809    83.658544   3553.889072   100.715551\n",
       "std           9.741443    20.174277   1841.865106    40.187912\n",
       "min           6.000000    26.880000    482.130000    33.000000\n",
       "25%          27.000000    68.860000   2203.430000    68.000000\n",
       "50%          35.000000    95.700000   3184.800000    99.000000\n",
       "75%          43.000000   100.000000   4508.000000   124.000000\n",
       "max          97.000000   100.000000  14082.800000   214.000000"
      ]
     },
     "execution_count": 10,
     "metadata": {},
     "output_type": "execute_result"
    }
   ],
   "source": [
    "# Understanding the central tendencies and dispersion of numerical variables\n",
    "\n",
    "num_vars = ['QUANTITYORDERED','PRICEEACH','SALES','MSRP']\n",
    "sales[num_vars].describe()"
   ]
  },
  {
   "cell_type": "markdown",
   "metadata": {},
   "source": [
    "* Quantity Ordered has less skewness.\n",
    "* Price is having high values below Q3, so left skewed.\n",
    "* Sales is having high values above Q3, so right skewed.\n",
    "* MSRP is having very less skew."
   ]
  },
  {
   "cell_type": "markdown",
   "metadata": {},
   "source": [
    "### Understanding the variables"
   ]
  },
  {
   "cell_type": "markdown",
   "metadata": {},
   "source": [
    "#### Univariate Analysis"
   ]
  },
  {
   "cell_type": "code",
   "execution_count": 11,
   "metadata": {},
   "outputs": [
    {
     "data": {
      "image/png": "[encoded data removed]",
      "text/plain": [
       "<Figure size 648x432 with 1 Axes>"
      ]
     },
     "metadata": {
      "needs_background": "light"
     },
     "output_type": "display_data"
    }
   ],
   "source": [
    "# Plotting Histograms for numerical variables\n",
    "\n",
    "# Quantity Ordered\n",
    "plt.figure(figsize=(9,6))\n",
    "sns.distplot(sales['QUANTITYORDERED'])\n",
    "plt.title('Quantity Ordered - Distribution')\n",
    "plt.xlabel('Quantity Ordered')\n",
    "plt.ylabel('Frequency')\n",
    "plt.show()"
   ]
  },
  {
   "cell_type": "markdown",
   "metadata": {},
   "source": [
    "It is observed that most of the orders are varying from 20-55 units"
   ]
  },
  {
   "cell_type": "code",
   "execution_count": 14,
   "metadata": {},
   "outputs": [
    {
     "data": {
      "image/png": "[encoded data removed]",
      "text/plain": [
       "<Figure size 648x432 with 1 Axes>"
      ]
     },
     "metadata": {
      "needs_background": "light"
     },
     "output_type": "display_data"
    }
   ],
   "source": [
    "# Sales - Distribution\n",
    "plt.figure(figsize=(9,6))\n",
    "sns.distplot(sales['SALES'])\n",
    "plt.title('Sales - Distribution')\n",
    "plt.xlabel('Sales')\n",
    "plt.ylabel('Frequency')\n",
    "plt.show()"
   ]
  },
  {
   "cell_type": "markdown",
   "metadata": {},
   "source": [
    "The distribution is right skewed and most of the sales are varying from 1800-5000"
   ]
  },
  {
   "cell_type": "code",
   "execution_count": 15,
   "metadata": {},
   "outputs": [
    {
     "data": {
      "image/png": "[encoded data removed]",
      "text/plain": [
       "<Figure size 648x432 with 1 Axes>"
      ]
     },
     "metadata": {
      "needs_background": "light"
     },
     "output_type": "display_data"
    }
   ],
   "source": [
    "# Prices - Distribution\n",
    "plt.figure(figsize=(9,6))\n",
    "sns.distplot(sales['PRICEEACH'])\n",
    "plt.title('Prices - Distribution')\n",
    "plt.xlabel('Prices')\n",
    "plt.ylabel('Frequency')\n",
    "plt.show()"
   ]
  },
  {
   "cell_type": "markdown",
   "metadata": {},
   "source": [
    "The distribution of Prices is left skewed and highest price of product being sold is 100$."
   ]
  },
  {
   "cell_type": "code",
   "execution_count": 16,
   "metadata": {},
   "outputs": [
    {
     "data": {
      "text/plain": [
       "Shipped       0.927028\n",
       "Cancelled     0.021254\n",
       "Resolved      0.016649\n",
       "On Hold       0.015586\n",
       "In Process    0.014524\n",
       "Disputed      0.004959\n",
       "Name: STATUS, dtype: float64"
      ]
     },
     "execution_count": 16,
     "metadata": {},
     "output_type": "execute_result"
    }
   ],
   "source": [
    "# Understanding the STATUS variable\n",
    "sales['STATUS'].value_counts(normalize = True)"
   ]
  },
  {
   "cell_type": "code",
   "execution_count": 17,
   "metadata": {},
   "outputs": [
    {
     "data": {
      "text/plain": [
       "YEAR_ID\n",
       "2003    12\n",
       "2004    12\n",
       "2005     5\n",
       "Name: MONTH_ID, dtype: int64"
      ]
     },
     "execution_count": 17,
     "metadata": {},
     "output_type": "execute_result"
    }
   ],
   "source": [
    "# Checking the DateTime variables\n",
    "sales.groupby(['YEAR_ID'])['MONTH_ID'].nunique()"
   ]
  },
  {
   "cell_type": "markdown",
   "metadata": {},
   "source": [
    "It can be observed that we don't have complete data for the year 2005"
   ]
  },
  {
   "cell_type": "code",
   "execution_count": 18,
   "metadata": {},
   "outputs": [
    {
     "data": {
      "image/png": "[encoded data removed]",
      "text/plain": [
       "<Figure size 648x432 with 1 Axes>"
      ]
     },
     "metadata": {
      "needs_background": "light"
     },
     "output_type": "display_data"
    }
   ],
   "source": [
    "# Bar plot for Categorical variable - Dealsize\n",
    "\n",
    "plt.figure(figsize=(9,6))\n",
    "sales['DEALSIZE'].value_counts(normalize = True).plot(kind = 'bar')\n",
    "plt.title('DealSize Distribution')\n",
    "plt.xlabel('Deal Size')\n",
    "plt.ylabel('% Proportion')\n",
    "plt.show()"
   ]
  },
  {
   "cell_type": "markdown",
   "metadata": {},
   "source": [
    "Most of the deals made are Medium followed by Small and very few Large deals are made."
   ]
  },
  {
   "cell_type": "markdown",
   "metadata": {},
   "source": [
    "#### Understanding the KPIs"
   ]
  },
  {
   "cell_type": "code",
   "execution_count": 20,
   "metadata": {},
   "outputs": [
    {
     "data": {
      "image/png": "[encoded data removed]",
      "text/plain": [
       "<Figure size 648x432 with 1 Axes>"
      ]
     },
     "metadata": {
      "needs_background": "light"
     },
     "output_type": "display_data"
    }
   ],
   "source": [
    "# Yearly Revenue\n",
    "\n",
    "plt.figure(figsize=(9,6))\n",
    "sales.groupby(['YEAR_ID'])['SALES'].sum().plot()\n",
    "plt.xlabel('Year')\n",
    "plt.ylabel('Revenue')\n",
    "plt.title('Annual Revenue')\n",
    "plt.xticks(np.arange(2003,2006,1))\n",
    "plt.show()"
   ]
  },
  {
   "cell_type": "markdown",
   "metadata": {},
   "source": [
    "As we do not have complete year data for 2005, this graph does not give the right representation.\n",
    "Hence, considering the Monthly Revenue"
   ]
  },
  {
   "cell_type": "code",
   "execution_count": 21,
   "metadata": {},
   "outputs": [
    {
     "data": {
      "image/png": "[encoded data removed]",
      "text/plain": [
       "<Figure size 648x432 with 1 Axes>"
      ]
     },
     "metadata": {
      "needs_background": "light"
     },
     "output_type": "display_data"
    }
   ],
   "source": [
    "# Monthly Revenue\n",
    "\n",
    "plt.figure(figsize=(9,6))\n",
    "monthly_revenue = sales.groupby(['YEAR_ID','MONTH_ID'])['SALES'].sum().reset_index()  #list of all months in each year sales data\n",
    "monthly_revenue\n",
    "sns.lineplot(x=\"MONTH_ID\", y=\"SALES\",hue=\"YEAR_ID\", data=monthly_revenue)\n",
    "plt.xlabel('Month')\n",
    "plt.ylabel('Sales')\n",
    "plt.title('Monthly Revenue')\n",
    "plt.show()"
   ]
  },
  {
   "cell_type": "markdown",
   "metadata": {},
   "source": [
    "* There is a significant growth of Revenue each year.\n",
    "* It can also be observed that Months : August- December are generating the most of the revenue each year."
   ]
  },
  {
   "cell_type": "code",
   "execution_count": 22,
   "metadata": {},
   "outputs": [
    {
     "data": {
      "image/png": "[encoded data removed]",
      "text/plain": [
       "<Figure size 648x432 with 1 Axes>"
      ]
     },
     "metadata": {
      "needs_background": "light"
     },
     "output_type": "display_data"
    }
   ],
   "source": [
    "### Country-wise Sales\n",
    "\n",
    "# Plotting top 10 countries for SALES\n",
    "plt.figure(figsize=(9,6))\n",
    "top_cities = sales.groupby(['COUNTRY'])['SALES'].sum().sort_values(ascending=False)\n",
    "top_cities.plot(kind = 'bar')\n",
    "plt.title('Top 10 countries by Sales')\n",
    "plt.xlabel('Country')\n",
    "plt.ylabel('Total Sales')\n",
    "plt.show()"
   ]
  },
  {
   "cell_type": "markdown",
   "metadata": {},
   "source": [
    "* USA is leading country , generating most of the revenue with highest Sales.\n",
    "* Followed by Spain and France with Sales > 1 million"
   ]
  },
  {
   "cell_type": "code",
   "execution_count": 23,
   "metadata": {},
   "outputs": [
    {
     "data": {
      "image/png": "[encoded data removed]",
      "text/plain": [
       "<Figure size 432x288 with 1 Axes>"
      ]
     },
     "metadata": {
      "needs_background": "light"
     },
     "output_type": "display_data"
    }
   ],
   "source": [
    "## Customer activity across the Year\n",
    "\n",
    "#plt.figure(figsize=(10,8))\n",
    "sales['YEAR_MONTH'] = sales['YEAR_ID'].map(str)+sales['MONTH_ID'].map(str).map(lambda x: x.rjust(2,'0'))  # generating new column with year and month mappin\n",
    "monthly_active = sales.groupby(['YEAR_MONTH'])['CUSTOMERNAME'].nunique().reset_index()  #Grouping customers according to every month in each year ; Considering only unique customers by their IDs\n",
    "monthly_active.plot(kind='bar',x='YEAR_MONTH',y='CUSTOMERNAME')        # Plotting graph for the same\n",
    "#plt.figure(figsize=(10,8)) \n",
    "plt.title('Monthly Active Customers')\n",
    "plt.xlabel('Month/Year')\n",
    "plt.ylabel('Number of Unique Customers')\n",
    "plt.xticks(rotation=90)\n",
    "#plt.figure(figsize=(10,8))\n",
    "plt.show()"
   ]
  },
  {
   "cell_type": "markdown",
   "metadata": {},
   "source": [
    "* As expected the sales are high during the holiday season, observe 200311 (2003 Nov) and 200411 (2004 Nov) and the months     around these two.\n",
    "* It also indicates that Company is successful in retaining customers and acquiring new customers."
   ]
  },
  {
   "cell_type": "markdown",
   "metadata": {},
   "source": [
    "#### Defining potential customers"
   ]
  },
  {
   "cell_type": "markdown",
   "metadata": {},
   "source": [
    "A customer can be identified as potential customer by understanding how much revenue is being generated by the customer,\n",
    "how frequently customer purchases on the website and how recent was the customer's latest purchase.\n",
    "\n",
    "So defining these three factors as variables as below :\n",
    "    * Value - Overall revenue being generated by the customer.\n",
    "    * Frequency - How frequent customer is making the purchases.\n",
    "    "
   ]
  },
  {
   "cell_type": "code",
   "execution_count": 191,
   "metadata": {},
   "outputs": [],
   "source": [
    "# Calculating the factors defined above\n",
    "\n",
    "# creating a new dataframe and storing the dictionary with calculated fields\n",
    "# frequency by counting the no. of orders\n",
    "# value is the sum of all purchases made \n",
    "# all these fields are grouped by Customer Name\n",
    "\n",
    "\n",
    "sales_FV = sales.groupby(['CUSTOMERNAME']).agg({'ORDERNUMBER': 'count','SALES':'sum'})\n",
    "\n",
    "#Renaming the columns\n",
    "sales_FV.rename(columns={'ORDERNUMBER': 'Frequency','SALES': 'Value'}, inplace=True)"
   ]
  },
  {
   "cell_type": "code",
   "execution_count": 192,
   "metadata": {},
   "outputs": [
    {
     "data": {
      "text/html": [
       "<div>\n",
       "<style scoped>\n",
       "    .dataframe tbody tr th:only-of-type {\n",
       "        vertical-align: middle;\n",
       "    }\n",
       "\n",
       "    .dataframe tbody tr th {\n",
       "        vertical-align: top;\n",
       "    }\n",
       "\n",
       "    .dataframe thead th {\n",
       "        text-align: right;\n",
       "    }\n",
       "</style>\n",
       "<table border=\"1\" class=\"dataframe\">\n",
       "  <thead>\n",
       "    <tr style=\"text-align: right;\">\n",
       "      <th></th>\n",
       "      <th>Frequency</th>\n",
       "      <th>Value</th>\n",
       "    </tr>\n",
       "    <tr>\n",
       "      <th>CUSTOMERNAME</th>\n",
       "      <th></th>\n",
       "      <th></th>\n",
       "    </tr>\n",
       "  </thead>\n",
       "  <tbody>\n",
       "    <tr>\n",
       "      <th>AV Stores, Co.</th>\n",
       "      <td>51</td>\n",
       "      <td>157807.81</td>\n",
       "    </tr>\n",
       "    <tr>\n",
       "      <th>Alpha Cognac</th>\n",
       "      <td>20</td>\n",
       "      <td>70488.44</td>\n",
       "    </tr>\n",
       "    <tr>\n",
       "      <th>Amica Models &amp; Co.</th>\n",
       "      <td>26</td>\n",
       "      <td>94117.26</td>\n",
       "    </tr>\n",
       "    <tr>\n",
       "      <th>Anna's Decorations, Ltd</th>\n",
       "      <td>46</td>\n",
       "      <td>153996.13</td>\n",
       "    </tr>\n",
       "    <tr>\n",
       "      <th>Atelier graphique</th>\n",
       "      <td>7</td>\n",
       "      <td>24179.96</td>\n",
       "    </tr>\n",
       "  </tbody>\n",
       "</table>\n",
       "</div>"
      ],
      "text/plain": [
       "                         Frequency      Value\n",
       "CUSTOMERNAME                                 \n",
       "AV Stores, Co.                  51  157807.81\n",
       "Alpha Cognac                    20   70488.44\n",
       "Amica Models & Co.              26   94117.26\n",
       "Anna's Decorations, Ltd         46  153996.13\n",
       "Atelier graphique                7   24179.96"
      ]
     },
     "execution_count": 192,
     "metadata": {},
     "output_type": "execute_result"
    }
   ],
   "source": [
    "sales_FV.head()"
   ]
  },
  {
   "cell_type": "markdown",
   "metadata": {},
   "source": [
    "### Clustering"
   ]
  },
  {
   "cell_type": "markdown",
   "metadata": {},
   "source": [
    "#### Agglomerative Clustering"
   ]
  },
  {
   "cell_type": "code",
   "execution_count": 41,
   "metadata": {},
   "outputs": [],
   "source": [
    "# Importing Libraries\n",
    "import scipy\n",
    "from scipy.cluster.hierarchy import dendrogram, linkage"
   ]
  },
  {
   "cell_type": "code",
   "execution_count": 100,
   "metadata": {},
   "outputs": [],
   "source": [
    "# defining the linkage to be used on the model\n",
    "Z = linkage(sales_FV_scaled, 'complete')"
   ]
  },
  {
   "cell_type": "code",
   "execution_count": 101,
   "metadata": {},
   "outputs": [
    {
     "data": {
      "image/png": "[encoded data removed]",
      "text/plain": [
       "<Figure size 432x288 with 1 Axes>"
      ]
     },
     "metadata": {
      "needs_background": "light"
     },
     "output_type": "display_data"
    }
   ],
   "source": [
    "# Plotting a dendrogram to see the levels of  \n",
    "dendrogram(Z,leaf_rotation=90, leaf_font_size=15.)\n",
    "plt.title(\"Dendrogram\")\n",
    "plt.xlabel('Cluster Size')\n",
    "plt.ylabel('Distance')\n",
    "\n",
    "plt.show()"
   ]
  },
  {
   "cell_type": "code",
   "execution_count": 193,
   "metadata": {},
   "outputs": [
    {
     "data": {
      "image/png": "[encoded data removed]",
      "text/plain": [
       "<Figure size 432x288 with 1 Axes>"
      ]
     },
     "metadata": {
      "needs_background": "light"
     },
     "output_type": "display_data"
    }
   ],
   "source": [
    "#Plotting a truncated Dendrogram\n",
    "\n",
    "dendrogram(Z,truncate_mode='lastp',p=15,leaf_rotation=90, leaf_font_size=15.)\n",
    "plt.title(\"Truncated Dendrogram\")\n",
    "plt.xlabel('Cluster Size')\n",
    "plt.ylabel('Distance')\n",
    "\n",
    "plt.show()"
   ]
  },
  {
   "cell_type": "code",
   "execution_count": 194,
   "metadata": {},
   "outputs": [],
   "source": [
    "#Importing Libraries\n",
    "import sklearn\n",
    "from sklearn.cluster import AgglomerativeClustering"
   ]
  },
  {
   "cell_type": "code",
   "execution_count": 195,
   "metadata": {},
   "outputs": [],
   "source": [
    "# Defining Hierarchial - agglomerative clustering\n",
    "\n",
    "hclust = AgglomerativeClustering(n_clusters=5, affinity='euclidean', linkage='complete')"
   ]
  },
  {
   "cell_type": "code",
   "execution_count": 196,
   "metadata": {},
   "outputs": [
    {
     "data": {
      "text/plain": [
       "AgglomerativeClustering(affinity='euclidean', compute_full_tree='auto',\n",
       "            connectivity=None, linkage='complete', memory=None,\n",
       "            n_clusters=5, pooling_func='deprecated')"
      ]
     },
     "execution_count": 196,
     "metadata": {},
     "output_type": "execute_result"
    }
   ],
   "source": [
    "# Fitting the model\n",
    "\n",
    "hclust.fit(sales_FV)"
   ]
  },
  {
   "cell_type": "code",
   "execution_count": 205,
   "metadata": {},
   "outputs": [],
   "source": [
    "#sales_FV= sales_FV.drop('Groups', axis = 1)"
   ]
  },
  {
   "cell_type": "code",
   "execution_count": 197,
   "metadata": {},
   "outputs": [],
   "source": [
    "#Grouping the Data\n",
    "\n",
    "sales_FV['Groups'] = hclust.labels_"
   ]
  },
  {
   "cell_type": "code",
   "execution_count": 198,
   "metadata": {},
   "outputs": [
    {
     "data": {
      "text/html": [
       "<div>\n",
       "<style scoped>\n",
       "    .dataframe tbody tr th:only-of-type {\n",
       "        vertical-align: middle;\n",
       "    }\n",
       "\n",
       "    .dataframe tbody tr th {\n",
       "        vertical-align: top;\n",
       "    }\n",
       "\n",
       "    .dataframe thead th {\n",
       "        text-align: right;\n",
       "    }\n",
       "</style>\n",
       "<table border=\"1\" class=\"dataframe\">\n",
       "  <thead>\n",
       "    <tr style=\"text-align: right;\">\n",
       "      <th></th>\n",
       "      <th>Frequency</th>\n",
       "      <th>Value</th>\n",
       "    </tr>\n",
       "    <tr>\n",
       "      <th>Groups</th>\n",
       "      <th></th>\n",
       "      <th></th>\n",
       "    </tr>\n",
       "  </thead>\n",
       "  <tbody>\n",
       "    <tr>\n",
       "      <th>0</th>\n",
       "      <td>39.000000</td>\n",
       "      <td>140205.502667</td>\n",
       "    </tr>\n",
       "    <tr>\n",
       "      <th>1</th>\n",
       "      <td>21.942308</td>\n",
       "      <td>77418.488846</td>\n",
       "    </tr>\n",
       "    <tr>\n",
       "      <th>2</th>\n",
       "      <td>259.000000</td>\n",
       "      <td>912294.110000</td>\n",
       "    </tr>\n",
       "    <tr>\n",
       "      <th>3</th>\n",
       "      <td>180.000000</td>\n",
       "      <td>654858.060000</td>\n",
       "    </tr>\n",
       "    <tr>\n",
       "      <th>4</th>\n",
       "      <td>9.125000</td>\n",
       "      <td>29193.772500</td>\n",
       "    </tr>\n",
       "  </tbody>\n",
       "</table>\n",
       "</div>"
      ],
      "text/plain": [
       "         Frequency          Value\n",
       "Groups                           \n",
       "0        39.000000  140205.502667\n",
       "1        21.942308   77418.488846\n",
       "2       259.000000  912294.110000\n",
       "3       180.000000  654858.060000\n",
       "4         9.125000   29193.772500"
      ]
     },
     "execution_count": 198,
     "metadata": {},
     "output_type": "execute_result"
    }
   ],
   "source": [
    "sales_FV.groupby(['Groups']).mean()"
   ]
  },
  {
   "cell_type": "markdown",
   "metadata": {},
   "source": [
    "#### Interpretation\n",
    "\n",
    "Frequency is number of purchases made by the customer\n",
    "Value  is the sum of overall revenue generated by customer\n",
    "\n",
    "We divided the customers into 5 groups using AgglomerativeClustering.\n",
    "* Cluster 2 and 3 can be assgined as the high value customers - As the value of Frequency and Value are comparitively higher than other groups.\n",
    "* Cluster 0 and 1 can be assigned as the medium value customers - As the values of Frequency and Value are lying between high and low.\n",
    "* Cluster 4 can be assigned as the low value customers - As the values of Frequency and value are comparitively low among all groups"
   ]
  },
  {
   "cell_type": "markdown",
   "metadata": {},
   "source": [
    "### K-means clustering"
   ]
  },
  {
   "cell_type": "code",
   "execution_count": 199,
   "metadata": {},
   "outputs": [],
   "source": [
    "# Importing Libraries\n",
    "from sklearn.cluster import KMeans"
   ]
  },
  {
   "cell_type": "code",
   "execution_count": 208,
   "metadata": {},
   "outputs": [],
   "source": [
    "#sales_FV=sales_FV.drop('Clusters', axis =1)"
   ]
  },
  {
   "cell_type": "code",
   "execution_count": 209,
   "metadata": {},
   "outputs": [
    {
     "name": "stdout",
     "output_type": "stream",
     "text": [
      "[177095521011.1087, 81275718631.30609, 48139055589.00479, 25533535364.19399, 13540247462.99012, 8682974637.499615, 5845816174.405325, 4222411322.3848696]\n"
     ]
    }
   ],
   "source": [
    "#Calculating the within group SSE as interia for different cluster solutions\n",
    "\n",
    "inertias = []\n",
    "for k in [2,3,4,5,6,7,8,9]:\n",
    "    km = KMeans(n_clusters=k,n_init=40)\n",
    "    inertia = km.fit(sales_FV_scaled).inertia_\n",
    "    inertias.append(inertia)\n",
    "    \n",
    "print(inertias)"
   ]
  },
  {
   "cell_type": "code",
   "execution_count": 210,
   "metadata": {},
   "outputs": [
    {
     "data": {
      "image/png": "[encoded data removed]",
      "text/plain": [
       "<Figure size 432x288 with 1 Axes>"
      ]
     },
     "metadata": {
      "needs_background": "light"
     },
     "output_type": "display_data"
    }
   ],
   "source": [
    "# Plotting screeplot\n",
    "\n",
    "#plt.plot([2,3,4,5,6,7], inertias)\n",
    "#plt.show()\n",
    "\n",
    "k = [2,3,4,5,6,7,8,9]\n",
    "sns.pointplot(x = list(k), y = list(inertias))\n",
    "#plt.text()\n",
    "plt.show()"
   ]
  },
  {
   "cell_type": "markdown",
   "metadata": {},
   "source": [
    "* Scree plot helps in deciding the number of clusters. The elbow point is defined as the point with highest angle or the point at which the steepness of the curve reduces.\n",
    "* As per above plot, 5 is identified as an elbow point. Hence, we will be taking no. of clusters as 5 for fitting k-means model."
   ]
  },
  {
   "cell_type": "code",
   "execution_count": 212,
   "metadata": {},
   "outputs": [],
   "source": [
    "#Defining k-means with no.o f clusters \n",
    "\n",
    "km = KMeans(n_clusters=5,n_init=40)"
   ]
  },
  {
   "cell_type": "code",
   "execution_count": 213,
   "metadata": {},
   "outputs": [
    {
     "data": {
      "text/plain": [
       "KMeans(algorithm='auto', copy_x=True, init='k-means++', max_iter=300,\n",
       "    n_clusters=5, n_init=40, n_jobs=None, precompute_distances='auto',\n",
       "    random_state=None, tol=0.0001, verbose=0)"
      ]
     },
     "execution_count": 213,
     "metadata": {},
     "output_type": "execute_result"
    }
   ],
   "source": [
    "# Fitting the model\n",
    "\n",
    "km.fit(sales_FV)"
   ]
  },
  {
   "cell_type": "code",
   "execution_count": 214,
   "metadata": {},
   "outputs": [],
   "source": [
    "# Defining the clusters\n",
    "\n",
    "sales_FV['Clusters'] = km1.labels_"
   ]
  },
  {
   "cell_type": "code",
   "execution_count": 219,
   "metadata": {},
   "outputs": [],
   "source": [
    "# Assigning the values of clusters into a dataframe\n",
    "clusters = pd.DataFrame()\n",
    "clusters['index_of_data'] = sales_FV.index.values\n",
    "clusters['cluster_no'] = km.labels_"
   ]
  },
  {
   "cell_type": "code",
   "execution_count": 220,
   "metadata": {},
   "outputs": [
    {
     "data": {
      "text/html": [
       "<div>\n",
       "<style scoped>\n",
       "    .dataframe tbody tr th:only-of-type {\n",
       "        vertical-align: middle;\n",
       "    }\n",
       "\n",
       "    .dataframe tbody tr th {\n",
       "        vertical-align: top;\n",
       "    }\n",
       "\n",
       "    .dataframe thead th {\n",
       "        text-align: right;\n",
       "    }\n",
       "</style>\n",
       "<table border=\"1\" class=\"dataframe\">\n",
       "  <thead>\n",
       "    <tr style=\"text-align: right;\">\n",
       "      <th></th>\n",
       "      <th>index_of_data</th>\n",
       "      <th>cluster_no</th>\n",
       "    </tr>\n",
       "  </thead>\n",
       "  <tbody>\n",
       "    <tr>\n",
       "      <th>0</th>\n",
       "      <td>AV Stores, Co.</td>\n",
       "      <td>2</td>\n",
       "    </tr>\n",
       "    <tr>\n",
       "      <th>1</th>\n",
       "      <td>Alpha Cognac</td>\n",
       "      <td>0</td>\n",
       "    </tr>\n",
       "    <tr>\n",
       "      <th>2</th>\n",
       "      <td>Amica Models &amp; Co.</td>\n",
       "      <td>4</td>\n",
       "    </tr>\n",
       "    <tr>\n",
       "      <th>3</th>\n",
       "      <td>Anna's Decorations, Ltd</td>\n",
       "      <td>2</td>\n",
       "    </tr>\n",
       "    <tr>\n",
       "      <th>4</th>\n",
       "      <td>Atelier graphique</td>\n",
       "      <td>0</td>\n",
       "    </tr>\n",
       "  </tbody>\n",
       "</table>\n",
       "</div>"
      ],
      "text/plain": [
       "             index_of_data  cluster_no\n",
       "0           AV Stores, Co.           2\n",
       "1             Alpha Cognac           0\n",
       "2       Amica Models & Co.           4\n",
       "3  Anna's Decorations, Ltd           2\n",
       "4        Atelier graphique           0"
      ]
     },
     "execution_count": 220,
     "metadata": {},
     "output_type": "execute_result"
    }
   ],
   "source": [
    "# Glimpse of cluster dataframe\n",
    "clusters.head()"
   ]
  },
  {
   "cell_type": "code",
   "execution_count": 221,
   "metadata": {},
   "outputs": [
    {
     "data": {
      "text/html": [
       "<div>\n",
       "<style scoped>\n",
       "    .dataframe tbody tr th:only-of-type {\n",
       "        vertical-align: middle;\n",
       "    }\n",
       "\n",
       "    .dataframe tbody tr th {\n",
       "        vertical-align: top;\n",
       "    }\n",
       "\n",
       "    .dataframe thead th {\n",
       "        text-align: right;\n",
       "    }\n",
       "</style>\n",
       "<table border=\"1\" class=\"dataframe\">\n",
       "  <thead>\n",
       "    <tr style=\"text-align: right;\">\n",
       "      <th></th>\n",
       "      <th>Frequency</th>\n",
       "      <th>Value</th>\n",
       "      <th>Clusters</th>\n",
       "    </tr>\n",
       "    <tr>\n",
       "      <th>CUSTOMERNAME</th>\n",
       "      <th></th>\n",
       "      <th></th>\n",
       "      <th></th>\n",
       "    </tr>\n",
       "  </thead>\n",
       "  <tbody>\n",
       "    <tr>\n",
       "      <th>Alpha Cognac</th>\n",
       "      <td>20</td>\n",
       "      <td>70488.44</td>\n",
       "      <td>0</td>\n",
       "    </tr>\n",
       "    <tr>\n",
       "      <th>Atelier graphique</th>\n",
       "      <td>7</td>\n",
       "      <td>24179.96</td>\n",
       "      <td>0</td>\n",
       "    </tr>\n",
       "    <tr>\n",
       "      <th>Australian Collectables, Ltd</th>\n",
       "      <td>23</td>\n",
       "      <td>64591.46</td>\n",
       "      <td>0</td>\n",
       "    </tr>\n",
       "    <tr>\n",
       "      <th>Australian Gift Network, Co</th>\n",
       "      <td>15</td>\n",
       "      <td>59469.12</td>\n",
       "      <td>0</td>\n",
       "    </tr>\n",
       "    <tr>\n",
       "      <th>Auto Assoc. &amp; Cie.</th>\n",
       "      <td>18</td>\n",
       "      <td>64834.32</td>\n",
       "      <td>0</td>\n",
       "    </tr>\n",
       "  </tbody>\n",
       "</table>\n",
       "</div>"
      ],
      "text/plain": [
       "                              Frequency     Value  Clusters\n",
       "CUSTOMERNAME                                               \n",
       "Alpha Cognac                         20  70488.44         0\n",
       "Atelier graphique                     7  24179.96         0\n",
       "Australian Collectables, Ltd         23  64591.46         0\n",
       "Australian Gift Network, Co          15  59469.12         0\n",
       "Auto Assoc. & Cie.                   18  64834.32         0"
      ]
     },
     "execution_count": 221,
     "metadata": {},
     "output_type": "execute_result"
    }
   ],
   "source": [
    "# Displaying head values of cluster 1 values\n",
    "\n",
    "cluster1 = sales_FV.loc[clusters[clusters['cluster_no'] == 0]['index_of_data'].values,:]\n",
    "cluster1.head()"
   ]
  },
  {
   "cell_type": "code",
   "execution_count": 222,
   "metadata": {},
   "outputs": [
    {
     "data": {
      "text/html": [
       "<div>\n",
       "<style scoped>\n",
       "    .dataframe tbody tr th:only-of-type {\n",
       "        vertical-align: middle;\n",
       "    }\n",
       "\n",
       "    .dataframe tbody tr th {\n",
       "        vertical-align: top;\n",
       "    }\n",
       "\n",
       "    .dataframe thead th {\n",
       "        text-align: right;\n",
       "    }\n",
       "</style>\n",
       "<table border=\"1\" class=\"dataframe\">\n",
       "  <thead>\n",
       "    <tr style=\"text-align: right;\">\n",
       "      <th></th>\n",
       "      <th>Frequency</th>\n",
       "      <th>Value</th>\n",
       "      <th>Clusters</th>\n",
       "    </tr>\n",
       "    <tr>\n",
       "      <th>CUSTOMERNAME</th>\n",
       "      <th></th>\n",
       "      <th></th>\n",
       "      <th></th>\n",
       "    </tr>\n",
       "  </thead>\n",
       "  <tbody>\n",
       "    <tr>\n",
       "      <th>Euro Shopping Channel</th>\n",
       "      <td>259</td>\n",
       "      <td>912294.11</td>\n",
       "      <td>1</td>\n",
       "    </tr>\n",
       "  </tbody>\n",
       "</table>\n",
       "</div>"
      ],
      "text/plain": [
       "                       Frequency      Value  Clusters\n",
       "CUSTOMERNAME                                         \n",
       "Euro Shopping Channel        259  912294.11         1"
      ]
     },
     "execution_count": 222,
     "metadata": {},
     "output_type": "execute_result"
    }
   ],
   "source": [
    "# Displaying head values of cluster 2 values\n",
    "\n",
    "cluster2 = sales_FV.loc[clusters[clusters['cluster_no'] == 1]['index_of_data'].values,:]\n",
    "cluster2.head()"
   ]
  },
  {
   "cell_type": "code",
   "execution_count": 223,
   "metadata": {},
   "outputs": [
    {
     "data": {
      "text/html": [
       "<div>\n",
       "<style scoped>\n",
       "    .dataframe tbody tr th:only-of-type {\n",
       "        vertical-align: middle;\n",
       "    }\n",
       "\n",
       "    .dataframe tbody tr th {\n",
       "        vertical-align: top;\n",
       "    }\n",
       "\n",
       "    .dataframe thead th {\n",
       "        text-align: right;\n",
       "    }\n",
       "</style>\n",
       "<table border=\"1\" class=\"dataframe\">\n",
       "  <thead>\n",
       "    <tr style=\"text-align: right;\">\n",
       "      <th></th>\n",
       "      <th>Frequency</th>\n",
       "      <th>Value</th>\n",
       "      <th>Clusters</th>\n",
       "    </tr>\n",
       "    <tr>\n",
       "      <th>CUSTOMERNAME</th>\n",
       "      <th></th>\n",
       "      <th></th>\n",
       "      <th></th>\n",
       "    </tr>\n",
       "  </thead>\n",
       "  <tbody>\n",
       "    <tr>\n",
       "      <th>AV Stores, Co.</th>\n",
       "      <td>51</td>\n",
       "      <td>157807.81</td>\n",
       "      <td>2</td>\n",
       "    </tr>\n",
       "    <tr>\n",
       "      <th>Anna's Decorations, Ltd</th>\n",
       "      <td>46</td>\n",
       "      <td>153996.13</td>\n",
       "      <td>2</td>\n",
       "    </tr>\n",
       "    <tr>\n",
       "      <th>Australian Collectors, Co.</th>\n",
       "      <td>55</td>\n",
       "      <td>200995.41</td>\n",
       "      <td>2</td>\n",
       "    </tr>\n",
       "    <tr>\n",
       "      <th>Corporate Gift Ideas Co.</th>\n",
       "      <td>41</td>\n",
       "      <td>149882.50</td>\n",
       "      <td>2</td>\n",
       "    </tr>\n",
       "    <tr>\n",
       "      <th>Danish Wholesale Imports</th>\n",
       "      <td>36</td>\n",
       "      <td>145041.60</td>\n",
       "      <td>2</td>\n",
       "    </tr>\n",
       "  </tbody>\n",
       "</table>\n",
       "</div>"
      ],
      "text/plain": [
       "                            Frequency      Value  Clusters\n",
       "CUSTOMERNAME                                              \n",
       "AV Stores, Co.                     51  157807.81         2\n",
       "Anna's Decorations, Ltd            46  153996.13         2\n",
       "Australian Collectors, Co.         55  200995.41         2\n",
       "Corporate Gift Ideas Co.           41  149882.50         2\n",
       "Danish Wholesale Imports           36  145041.60         2"
      ]
     },
     "execution_count": 223,
     "metadata": {},
     "output_type": "execute_result"
    }
   ],
   "source": [
    "# Displaying head values of cluster 3 values\n",
    "\n",
    "cluster3 = sales_FV.loc[clusters[clusters['cluster_no'] == 2]['index_of_data'].values,:]\n",
    "cluster3.head()"
   ]
  },
  {
   "cell_type": "code",
   "execution_count": 224,
   "metadata": {},
   "outputs": [
    {
     "data": {
      "text/html": [
       "<div>\n",
       "<style scoped>\n",
       "    .dataframe tbody tr th:only-of-type {\n",
       "        vertical-align: middle;\n",
       "    }\n",
       "\n",
       "    .dataframe tbody tr th {\n",
       "        vertical-align: top;\n",
       "    }\n",
       "\n",
       "    .dataframe thead th {\n",
       "        text-align: right;\n",
       "    }\n",
       "</style>\n",
       "<table border=\"1\" class=\"dataframe\">\n",
       "  <thead>\n",
       "    <tr style=\"text-align: right;\">\n",
       "      <th></th>\n",
       "      <th>Frequency</th>\n",
       "      <th>Value</th>\n",
       "      <th>Clusters</th>\n",
       "    </tr>\n",
       "    <tr>\n",
       "      <th>CUSTOMERNAME</th>\n",
       "      <th></th>\n",
       "      <th></th>\n",
       "      <th></th>\n",
       "    </tr>\n",
       "  </thead>\n",
       "  <tbody>\n",
       "    <tr>\n",
       "      <th>Mini Gifts Distributors Ltd.</th>\n",
       "      <td>180</td>\n",
       "      <td>654858.06</td>\n",
       "      <td>3</td>\n",
       "    </tr>\n",
       "  </tbody>\n",
       "</table>\n",
       "</div>"
      ],
      "text/plain": [
       "                              Frequency      Value  Clusters\n",
       "CUSTOMERNAME                                                \n",
       "Mini Gifts Distributors Ltd.        180  654858.06         3"
      ]
     },
     "execution_count": 224,
     "metadata": {},
     "output_type": "execute_result"
    }
   ],
   "source": [
    "# Displaying head values of cluster 4 values\n",
    "\n",
    "cluster4 = sales_FV.loc[clusters[clusters['cluster_no'] == 3]['index_of_data'].values,:]\n",
    "cluster4.head()"
   ]
  },
  {
   "cell_type": "code",
   "execution_count": 225,
   "metadata": {},
   "outputs": [
    {
     "data": {
      "text/html": [
       "<div>\n",
       "<style scoped>\n",
       "    .dataframe tbody tr th:only-of-type {\n",
       "        vertical-align: middle;\n",
       "    }\n",
       "\n",
       "    .dataframe tbody tr th {\n",
       "        vertical-align: top;\n",
       "    }\n",
       "\n",
       "    .dataframe thead th {\n",
       "        text-align: right;\n",
       "    }\n",
       "</style>\n",
       "<table border=\"1\" class=\"dataframe\">\n",
       "  <thead>\n",
       "    <tr style=\"text-align: right;\">\n",
       "      <th></th>\n",
       "      <th>Frequency</th>\n",
       "      <th>Value</th>\n",
       "      <th>Clusters</th>\n",
       "    </tr>\n",
       "    <tr>\n",
       "      <th>CUSTOMERNAME</th>\n",
       "      <th></th>\n",
       "      <th></th>\n",
       "      <th></th>\n",
       "    </tr>\n",
       "  </thead>\n",
       "  <tbody>\n",
       "    <tr>\n",
       "      <th>Amica Models &amp; Co.</th>\n",
       "      <td>26</td>\n",
       "      <td>94117.26</td>\n",
       "      <td>4</td>\n",
       "    </tr>\n",
       "    <tr>\n",
       "      <th>Auto Canal Petit</th>\n",
       "      <td>27</td>\n",
       "      <td>93170.66</td>\n",
       "      <td>4</td>\n",
       "    </tr>\n",
       "    <tr>\n",
       "      <th>Baane Mini Imports</th>\n",
       "      <td>32</td>\n",
       "      <td>116599.19</td>\n",
       "      <td>4</td>\n",
       "    </tr>\n",
       "    <tr>\n",
       "      <th>Blauer See Auto, Co.</th>\n",
       "      <td>22</td>\n",
       "      <td>85171.59</td>\n",
       "      <td>4</td>\n",
       "    </tr>\n",
       "    <tr>\n",
       "      <th>Canadian Gift Exchange Network</th>\n",
       "      <td>22</td>\n",
       "      <td>75238.92</td>\n",
       "      <td>4</td>\n",
       "    </tr>\n",
       "  </tbody>\n",
       "</table>\n",
       "</div>"
      ],
      "text/plain": [
       "                                Frequency      Value  Clusters\n",
       "CUSTOMERNAME                                                  \n",
       "Amica Models & Co.                     26   94117.26         4\n",
       "Auto Canal Petit                       27   93170.66         4\n",
       "Baane Mini Imports                     32  116599.19         4\n",
       "Blauer See Auto, Co.                   22   85171.59         4\n",
       "Canadian Gift Exchange Network         22   75238.92         4"
      ]
     },
     "execution_count": 225,
     "metadata": {},
     "output_type": "execute_result"
    }
   ],
   "source": [
    "# Displaying head values of cluster 5 values\n",
    "\n",
    "cluster5 = sales_FV.loc[clusters[clusters['cluster_no'] == 4]['index_of_data'].values,:]\n",
    "cluster5.head()"
   ]
  },
  {
   "cell_type": "markdown",
   "metadata": {},
   "source": [
    "As per above dataframe, we ae doing analysis for Cluster 4 customers:\n",
    "* Amica Models & Co. are purchasing goods of worth 94117$ and are frequent buyers with having a frequency of 26.\n",
    "\n",
    "Similarly we can interpret the other customers in each cluster"
   ]
  },
  {
   "cell_type": "code",
   "execution_count": 227,
   "metadata": {},
   "outputs": [
    {
     "data": {
      "text/html": [
       "<div>\n",
       "<style scoped>\n",
       "    .dataframe tbody tr th:only-of-type {\n",
       "        vertical-align: middle;\n",
       "    }\n",
       "\n",
       "    .dataframe tbody tr th {\n",
       "        vertical-align: top;\n",
       "    }\n",
       "\n",
       "    .dataframe thead tr th {\n",
       "        text-align: left;\n",
       "    }\n",
       "\n",
       "    .dataframe thead tr:last-of-type th {\n",
       "        text-align: right;\n",
       "    }\n",
       "</style>\n",
       "<table border=\"1\" class=\"dataframe\">\n",
       "  <thead>\n",
       "    <tr>\n",
       "      <th></th>\n",
       "      <th colspan=\"2\" halign=\"left\">Frequency</th>\n",
       "      <th colspan=\"2\" halign=\"left\">Value</th>\n",
       "    </tr>\n",
       "    <tr>\n",
       "      <th></th>\n",
       "      <th>mean</th>\n",
       "      <th>count</th>\n",
       "      <th>mean</th>\n",
       "      <th>count</th>\n",
       "    </tr>\n",
       "    <tr>\n",
       "      <th>Clusters</th>\n",
       "      <th></th>\n",
       "      <th></th>\n",
       "      <th></th>\n",
       "      <th></th>\n",
       "    </tr>\n",
       "  </thead>\n",
       "  <tbody>\n",
       "    <tr>\n",
       "      <th>0</th>\n",
       "      <td>14.520000</td>\n",
       "      <td>25</td>\n",
       "      <td>49647.509600</td>\n",
       "      <td>25</td>\n",
       "    </tr>\n",
       "    <tr>\n",
       "      <th>1</th>\n",
       "      <td>259.000000</td>\n",
       "      <td>1</td>\n",
       "      <td>912294.110000</td>\n",
       "      <td>1</td>\n",
       "    </tr>\n",
       "    <tr>\n",
       "      <th>2</th>\n",
       "      <td>43.833333</td>\n",
       "      <td>18</td>\n",
       "      <td>156024.620000</td>\n",
       "      <td>18</td>\n",
       "    </tr>\n",
       "    <tr>\n",
       "      <th>3</th>\n",
       "      <td>180.000000</td>\n",
       "      <td>1</td>\n",
       "      <td>654858.060000</td>\n",
       "      <td>1</td>\n",
       "    </tr>\n",
       "    <tr>\n",
       "      <th>4</th>\n",
       "      <td>26.212766</td>\n",
       "      <td>47</td>\n",
       "      <td>93954.165532</td>\n",
       "      <td>47</td>\n",
       "    </tr>\n",
       "  </tbody>\n",
       "</table>\n",
       "</div>"
      ],
      "text/plain": [
       "           Frequency                Value      \n",
       "                mean count           mean count\n",
       "Clusters                                       \n",
       "0          14.520000    25   49647.509600    25\n",
       "1         259.000000     1  912294.110000     1\n",
       "2          43.833333    18  156024.620000    18\n",
       "3         180.000000     1  654858.060000     1\n",
       "4          26.212766    47   93954.165532    47"
      ]
     },
     "execution_count": 227,
     "metadata": {},
     "output_type": "execute_result"
    }
   ],
   "source": [
    "# Finding out the number of unique customers in each cluster\n",
    "\n",
    "grouped = sales_FV.groupby(['Clusters'])\n",
    "\n",
    "grouped.agg({'Frequency':['mean','count'],'Value':['mean','count']})"
   ]
  },
  {
   "cell_type": "markdown",
   "metadata": {},
   "source": [
    " We can see from above dataframe:\n",
    " * 1.Customers in Cluster 1 and 3 are high yielding customers\n",
    " * 2.Customers in Cluster 2 and 4 are medium yielding customers\n",
    " * 3.Customers in Cluster 0 is low yeilding cluster"
   ]
  },
  {
   "cell_type": "code",
   "execution_count": 238,
   "metadata": {},
   "outputs": [],
   "source": [
    "# Mapping the clusters to High-Medium-Low yielding customers\n",
    "\n",
    "def customer_level(df):\n",
    "    if np.bool(df['Clusters'] == 0):\n",
    "        return 'Low yielding Customer'\n",
    "    elif np.bool(df['Clusters'] == 2 or df['Clusters'] == 4):\n",
    "        return 'Medium yielding Customer'\n",
    "    else:\n",
    "        return 'High yielding Customer'"
   ]
  },
  {
   "cell_type": "code",
   "execution_count": 243,
   "metadata": {},
   "outputs": [
    {
     "data": {
      "text/html": [
       "<div>\n",
       "<style scoped>\n",
       "    .dataframe tbody tr th:only-of-type {\n",
       "        vertical-align: middle;\n",
       "    }\n",
       "\n",
       "    .dataframe tbody tr th {\n",
       "        vertical-align: top;\n",
       "    }\n",
       "\n",
       "    .dataframe thead th {\n",
       "        text-align: right;\n",
       "    }\n",
       "</style>\n",
       "<table border=\"1\" class=\"dataframe\">\n",
       "  <thead>\n",
       "    <tr style=\"text-align: right;\">\n",
       "      <th></th>\n",
       "      <th>Frequency</th>\n",
       "      <th>Value</th>\n",
       "      <th>Clusters</th>\n",
       "      <th>Customer_Level</th>\n",
       "    </tr>\n",
       "    <tr>\n",
       "      <th>CUSTOMERNAME</th>\n",
       "      <th></th>\n",
       "      <th></th>\n",
       "      <th></th>\n",
       "      <th></th>\n",
       "    </tr>\n",
       "  </thead>\n",
       "  <tbody>\n",
       "    <tr>\n",
       "      <th>UK Collectables, Ltd.</th>\n",
       "      <td>29</td>\n",
       "      <td>118008.27</td>\n",
       "      <td>4</td>\n",
       "      <td>Medium yielding Customer</td>\n",
       "    </tr>\n",
       "    <tr>\n",
       "      <th>Mini Auto Werke</th>\n",
       "      <td>15</td>\n",
       "      <td>52263.90</td>\n",
       "      <td>0</td>\n",
       "      <td>Low yielding Customer</td>\n",
       "    </tr>\n",
       "    <tr>\n",
       "      <th>Quebec Home Shopping Network</th>\n",
       "      <td>22</td>\n",
       "      <td>74204.79</td>\n",
       "      <td>4</td>\n",
       "      <td>Medium yielding Customer</td>\n",
       "    </tr>\n",
       "    <tr>\n",
       "      <th>Euro Shopping Channel</th>\n",
       "      <td>259</td>\n",
       "      <td>912294.11</td>\n",
       "      <td>1</td>\n",
       "      <td>High yielding Customer</td>\n",
       "    </tr>\n",
       "    <tr>\n",
       "      <th>Souveniers And Things Co.</th>\n",
       "      <td>46</td>\n",
       "      <td>151570.98</td>\n",
       "      <td>2</td>\n",
       "      <td>Medium yielding Customer</td>\n",
       "    </tr>\n",
       "  </tbody>\n",
       "</table>\n",
       "</div>"
      ],
      "text/plain": [
       "                              Frequency      Value  Clusters  \\\n",
       "CUSTOMERNAME                                                   \n",
       "UK Collectables, Ltd.                29  118008.27         4   \n",
       "Mini Auto Werke                      15   52263.90         0   \n",
       "Quebec Home Shopping Network         22   74204.79         4   \n",
       "Euro Shopping Channel               259  912294.11         1   \n",
       "Souveniers And Things Co.            46  151570.98         2   \n",
       "\n",
       "                                        Customer_Level  \n",
       "CUSTOMERNAME                                            \n",
       "UK Collectables, Ltd.         Medium yielding Customer  \n",
       "Mini Auto Werke                  Low yielding Customer  \n",
       "Quebec Home Shopping Network  Medium yielding Customer  \n",
       "Euro Shopping Channel           High yielding Customer  \n",
       "Souveniers And Things Co.     Medium yielding Customer  "
      ]
     },
     "execution_count": 243,
     "metadata": {},
     "output_type": "execute_result"
    }
   ],
   "source": [
    "sales_FV['Customer_Level'] = sales_FV.apply(customer_level, axis=1)\n",
    "\n",
    "sales_FV.sample(5)"
   ]
  },
  {
   "cell_type": "markdown",
   "metadata": {},
   "source": [
    " Created new variable named Customer_Level. This variable is created using Clusters. \n",
    "* For Customers in Cluster 1 and 3, Customer_level will define the Customers as a High yielding customer\n",
    "* For Customers in Cluster 2 and 4, Customer_level will define the Customers as a Medium yielding customer\n",
    "* For Customers in Cluster 0 Customer_level will define the Customers as a Low yielding customer"
   ]
  },
  {
   "cell_type": "markdown",
   "metadata": {},
   "source": [
    "Hence, the objective of identifying customers into three groups is achieved. This will help the business to design their sales and offers in a better way."
   ]
  }
 ],
 "metadata": {
  "kernelspec": {
   "display_name": "Python 3",
   "language": "python",
   "name": "python3"
  },
  "language_info": {
   "codemirror_mode": {
    "name": "ipython",
    "version": 3
   },
   "file_extension": ".py",
   "mimetype": "text/x-python",
   "name": "python",
   "nbconvert_exporter": "python",
   "pygments_lexer": "ipython3",
   "version": "3.7.3"
  }
 },
 "nbformat": 4,
 "nbformat_minor": 2
}
